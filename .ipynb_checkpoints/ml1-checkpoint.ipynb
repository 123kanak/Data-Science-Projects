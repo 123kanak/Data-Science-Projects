{
 "cells": [
  {
   "cell_type": "code",
   "execution_count": 4,
   "id": "7457deae-6b00-453e-8b9c-625e9ed32239",
   "metadata": {},
   "outputs": [],
   "source": [
    "#algebra"
   ]
  },
  {
   "cell_type": "code",
   "execution_count": 5,
   "id": "c28d8005-2eb3-41cd-bc1c-70f74b34ba05",
   "metadata": {},
   "outputs": [
    {
     "name": "stdout",
     "output_type": "stream",
     "text": [
      "eculidean Distance from the origin:  154.90642336585015\n"
     ]
    }
   ],
   "source": [
    "#Distance from origin---> eculidean dist\n",
    "import numpy as np\n",
    "# define an  n .dim vector A\n",
    "\n",
    "a= np.array([1,2,3,4,5,6,7,8,9,10,11,12,13,14,15,16,150])\n",
    "#calculate Euclidean dist from the origin (l2 norm)\n",
    "distance = np.linalg.norm(a)\n",
    "print(\"eculidean Distance from the origin: \",distance)"
   ]
  },
  {
   "cell_type": "code",
   "execution_count": 6,
   "id": "a25fecec-3564-451f-a15b-a1757ff8e201",
   "metadata": {},
   "outputs": [
    {
     "data": {
      "text/plain": [
       "array([-8, -6, -4, -2,  0,  2,  4,  6,  8])"
      ]
     },
     "execution_count": 6,
     "metadata": {},
     "output_type": "execute_result"
    }
   ],
   "source": [
    "# to find eculidean distance in n_dim\n",
    "#define two n-dim vector A and b\n",
    "\n",
    "A= np.array([1,2,3,4,5,6,7,8,9])\n",
    "B= np.array([9,8,7,6,5,4,3,2,1])\n",
    "\n",
    "#calculate difference vector\n",
    "diff = A-B\n",
    "diff\n"
   ]
  },
  {
   "cell_type": "code",
   "execution_count": 7,
   "id": "68044faf-1375-4be0-b342-7f4601835a1a",
   "metadata": {},
   "outputs": [
    {
     "name": "stdout",
     "output_type": "stream",
     "text": [
      "eculidean Distance between A and b :  15.491933384829668\n"
     ]
    }
   ],
   "source": [
    "#calculate Euclidean dist between A and b (l2 norm of the diff)\n",
    "distance = np.linalg.norm(diff)\n",
    "print(\"eculidean Distance between A and b : \",distance)\n"
   ]
  },
  {
   "cell_type": "code",
   "execution_count": null,
   "id": "e6b11817-ba52-4f52-a38e-ef05a74dae6d",
   "metadata": {},
   "outputs": [],
   "source": []
  },
  {
   "cell_type": "code",
   "execution_count": null,
   "id": "229b61f8-128d-4619-8d83-c12aa4e1996d",
   "metadata": {},
   "outputs": [],
   "source": []
  },
  {
   "cell_type": "code",
   "execution_count": null,
   "id": "c4ec8902-91cd-4873-aa16-201b067a34aa",
   "metadata": {},
   "outputs": [],
   "source": []
  },
  {
   "cell_type": "code",
   "execution_count": null,
   "id": "6208d3b9-f136-4de8-8269-3d48a4c89779",
   "metadata": {},
   "outputs": [],
   "source": []
  },
  {
   "cell_type": "code",
   "execution_count": null,
   "id": "ade79f19-afbd-4ddb-8abd-01e1a53ebf23",
   "metadata": {},
   "outputs": [],
   "source": []
  },
  {
   "cell_type": "code",
   "execution_count": null,
   "id": "f55b5d6d-8ba5-4a6e-9e0f-cb56bc8e27bd",
   "metadata": {},
   "outputs": [],
   "source": []
  },
  {
   "cell_type": "code",
   "execution_count": null,
   "id": "1e0377ab-144c-4768-8937-be9091d19ae5",
   "metadata": {},
   "outputs": [],
   "source": []
  },
  {
   "cell_type": "code",
   "execution_count": null,
   "id": "2bea76e4-56de-428b-b826-52645e1b4bd5",
   "metadata": {},
   "outputs": [],
   "source": []
  },
  {
   "cell_type": "code",
   "execution_count": null,
   "id": "df006435-8817-4fe2-bc96-ca2b9b4467ae",
   "metadata": {},
   "outputs": [],
   "source": []
  },
  {
   "cell_type": "code",
   "execution_count": null,
   "id": "f660843f-9ff1-439c-a526-df8bbc5ae264",
   "metadata": {},
   "outputs": [],
   "source": []
  },
  {
   "cell_type": "code",
   "execution_count": null,
   "id": "3f68de79-308f-4d47-a20e-f8d135fbd4a7",
   "metadata": {},
   "outputs": [],
   "source": []
  },
  {
   "cell_type": "code",
   "execution_count": null,
   "id": "8e7db2b5-bba4-46da-a878-4e1091b797b9",
   "metadata": {},
   "outputs": [],
   "source": []
  },
  {
   "cell_type": "code",
   "execution_count": null,
   "id": "754faa69-30d4-4d21-b746-268c90f29fdd",
   "metadata": {},
   "outputs": [],
   "source": []
  },
  {
   "cell_type": "code",
   "execution_count": null,
   "id": "1d722641-f927-47e4-8372-55ae0b54d1c2",
   "metadata": {},
   "outputs": [],
   "source": []
  },
  {
   "cell_type": "code",
   "execution_count": null,
   "id": "f1c22879-71f3-4276-b215-ddb0ee9d77df",
   "metadata": {},
   "outputs": [],
   "source": []
  },
  {
   "cell_type": "code",
   "execution_count": null,
   "id": "7bc52cf1-4ab6-46d3-9121-2c7675e91012",
   "metadata": {},
   "outputs": [],
   "source": []
  },
  {
   "cell_type": "code",
   "execution_count": null,
   "id": "75fbd84b-863e-44a4-9a93-81d97f4590e9",
   "metadata": {},
   "outputs": [],
   "source": []
  },
  {
   "cell_type": "code",
   "execution_count": null,
   "id": "8a3400af-14ba-4757-b7ea-1d1031fca77e",
   "metadata": {},
   "outputs": [],
   "source": []
  },
  {
   "cell_type": "code",
   "execution_count": null,
   "id": "66c621ef-90de-4afe-8b6a-5c5e0c2afde6",
   "metadata": {},
   "outputs": [],
   "source": []
  },
  {
   "cell_type": "code",
   "execution_count": null,
   "id": "c809727e-298d-41ee-86b0-c98081c5dc0b",
   "metadata": {},
   "outputs": [],
   "source": []
  },
  {
   "cell_type": "code",
   "execution_count": null,
   "id": "4edcfd66-0e86-42ed-bda8-b04797fbfafd",
   "metadata": {},
   "outputs": [],
   "source": []
  },
  {
   "cell_type": "code",
   "execution_count": null,
   "id": "23a3b89b-4374-449b-9e19-12df206638bc",
   "metadata": {},
   "outputs": [],
   "source": []
  },
  {
   "cell_type": "code",
   "execution_count": null,
   "id": "e471197b-137e-45fd-be74-96f564d31b15",
   "metadata": {},
   "outputs": [],
   "source": []
  },
  {
   "cell_type": "code",
   "execution_count": null,
   "id": "9e102489-f8b2-4e9e-aade-9e991ab6d349",
   "metadata": {},
   "outputs": [],
   "source": []
  },
  {
   "cell_type": "code",
   "execution_count": null,
   "id": "6629fb75-cae6-48e2-beed-f112afcee1e1",
   "metadata": {},
   "outputs": [],
   "source": []
  },
  {
   "cell_type": "code",
   "execution_count": null,
   "id": "8c8fd60b-fc1d-47bd-8a15-cdea8687bcee",
   "metadata": {},
   "outputs": [],
   "source": []
  },
  {
   "cell_type": "code",
   "execution_count": null,
   "id": "334e9025-0e5d-428c-b331-51694a02c611",
   "metadata": {},
   "outputs": [],
   "source": []
  },
  {
   "cell_type": "code",
   "execution_count": null,
   "id": "3d0fe20f-1105-4d70-9ea0-6ac808cb39f8",
   "metadata": {},
   "outputs": [],
   "source": []
  },
  {
   "cell_type": "code",
   "execution_count": null,
   "id": "193d05ca-951d-4b99-bc8f-048a2e998f50",
   "metadata": {},
   "outputs": [],
   "source": []
  },
  {
   "cell_type": "code",
   "execution_count": null,
   "id": "ec901713-f330-44b4-b93c-ded337ed91a7",
   "metadata": {},
   "outputs": [],
   "source": []
  },
  {
   "cell_type": "code",
   "execution_count": null,
   "id": "6bc401d3-1b60-4d65-9053-38ee9ea281c6",
   "metadata": {},
   "outputs": [],
   "source": []
  },
  {
   "cell_type": "code",
   "execution_count": null,
   "id": "272ea823-4423-4ed3-ab00-af1cfccd4adf",
   "metadata": {},
   "outputs": [],
   "source": []
  },
  {
   "cell_type": "code",
   "execution_count": null,
   "id": "ba088a71-d034-458c-9c04-f8f4fa09dd88",
   "metadata": {},
   "outputs": [],
   "source": []
  },
  {
   "cell_type": "code",
   "execution_count": null,
   "id": "b0d67feb-9157-4bf7-8dc9-ee4ba7a8848c",
   "metadata": {},
   "outputs": [],
   "source": []
  },
  {
   "cell_type": "code",
   "execution_count": null,
   "id": "02581e9c-8093-44b9-b6c3-adee34b4f4a4",
   "metadata": {},
   "outputs": [],
   "source": []
  },
  {
   "cell_type": "code",
   "execution_count": null,
   "id": "01d47592-ae53-497f-8310-c6652f677cea",
   "metadata": {},
   "outputs": [],
   "source": []
  },
  {
   "cell_type": "code",
   "execution_count": null,
   "id": "269ae694-e7af-46c8-a500-19ff32db4be9",
   "metadata": {},
   "outputs": [],
   "source": []
  },
  {
   "cell_type": "code",
   "execution_count": null,
   "id": "f946998f-874b-4fdb-a603-b659d2287b43",
   "metadata": {},
   "outputs": [],
   "source": []
  },
  {
   "cell_type": "code",
   "execution_count": null,
   "id": "8d759c3a-fba3-4877-a6ec-b1de2c16dfd7",
   "metadata": {},
   "outputs": [],
   "source": []
  },
  {
   "cell_type": "code",
   "execution_count": null,
   "id": "5a1a3e2e-a34e-4e58-9f95-0646606ab76c",
   "metadata": {},
   "outputs": [],
   "source": []
  },
  {
   "cell_type": "code",
   "execution_count": null,
   "id": "d47ddf7e-b9d6-44b3-ace8-d955d9e40c07",
   "metadata": {},
   "outputs": [],
   "source": []
  },
  {
   "cell_type": "code",
   "execution_count": null,
   "id": "f90575c5-52d3-4d39-bc29-3e0d45e25a3e",
   "metadata": {},
   "outputs": [],
   "source": []
  },
  {
   "cell_type": "code",
   "execution_count": null,
   "id": "cbc56563-b9e4-457d-a215-81c3a40f7fde",
   "metadata": {},
   "outputs": [],
   "source": []
  }
 ],
 "metadata": {
  "kernelspec": {
   "display_name": "Python 3 (ipykernel)",
   "language": "python",
   "name": "python3"
  },
  "language_info": {
   "codemirror_mode": {
    "name": "ipython",
    "version": 3
   },
   "file_extension": ".py",
   "mimetype": "text/x-python",
   "name": "python",
   "nbconvert_exporter": "python",
   "pygments_lexer": "ipython3",
   "version": "3.12.7"
  }
 },
 "nbformat": 4,
 "nbformat_minor": 5
}
