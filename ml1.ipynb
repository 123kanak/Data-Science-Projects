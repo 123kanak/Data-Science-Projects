{
 "cells": [
  {
   "cell_type": "code",
   "execution_count": 4,
   "id": "7457deae-6b00-453e-8b9c-625e9ed32239",
   "metadata": {},
   "outputs": [],
   "source": [
    "#algebra"
   ]
  },
  {
   "cell_type": "code",
   "execution_count": 5,
   "id": "c28d8005-2eb3-41cd-bc1c-70f74b34ba05",
   "metadata": {},
   "outputs": [
    {
     "name": "stdout",
     "output_type": "stream",
     "text": [
      "eculidean Distance from the origin:  154.90642336585015\n"
     ]
    }
   ],
   "source": [
    "#Distance from origin---> eculidean dist\n",
    "import numpy as np\n",
    "# define an  n .dim vector A\n",
    "\n",
    "a= np.array([1,2,3,4,5,6,7,8,9,10,11,12,13,14,15,16,150])\n",
    "#calculate Euclidean dist from the origin (l2 norm)\n",
    "distance = np.linalg.norm(a)\n",
    "print(\"eculidean Distance from the origin: \",distance)"
   ]
  },
  {
   "cell_type": "code",
   "execution_count": 6,
   "id": "a25fecec-3564-451f-a15b-a1757ff8e201",
   "metadata": {},
   "outputs": [
    {
     "data": {
      "text/plain": [
       "array([-8, -6, -4, -2,  0,  2,  4,  6,  8])"
      ]
     },
     "execution_count": 6,
     "metadata": {},
     "output_type": "execute_result"
    }
   ],
   "source": [
    "# to find eculidean distance in n_dim\n",
    "#define two n-dim vector A and b\n",
    "\n",
    "A= np.array([1,2,3,4,5,6,7,8,9])\n",
    "B= np.array([9,8,7,6,5,4,3,2,1])\n",
    "\n",
    "#calculate difference vector\n",
    "diff = A-B\n",
    "diff\n"
   ]
  },
  {
   "cell_type": "code",
   "execution_count": 7,
   "id": "68044faf-1375-4be0-b342-7f4601835a1a",
   "metadata": {},
   "outputs": [
    {
     "name": "stdout",
     "output_type": "stream",
     "text": [
      "eculidean Distance between A and b :  15.491933384829668\n"
     ]
    }
   ],
   "source": [
    "#calculate Euclidean dist between A and b (l2 norm of the diff)\n",
    "distance = np.linalg.norm(diff)\n",
    "print(\"eculidean Distance between A and b : \",distance)\n"
   ]
  },
  {
   "cell_type": "code",
   "execution_count": 1,
   "id": "e6b11817-ba52-4f52-a38e-ef05a74dae6d",
   "metadata": {},
   "outputs": [
    {
     "data": {
      "text/plain": [
       "array([[5.83807770e-01, 9.98109514e-01],\n",
       "       [4.08778416e-01, 4.46380072e-01],\n",
       "       [7.38901443e-01, 2.92868051e-02],\n",
       "       [9.62545811e-01, 5.92176652e-01],\n",
       "       [1.60296143e-01, 7.08651504e-01],\n",
       "       [8.20524691e-01, 4.92906446e-01],\n",
       "       [9.02293488e-01, 2.01962439e-01],\n",
       "       [1.91104264e-01, 3.15209106e-01],\n",
       "       [3.79183184e-02, 8.89134578e-02],\n",
       "       [9.93794965e-01, 6.83305435e-01],\n",
       "       [6.81784713e-01, 8.18623995e-02],\n",
       "       [5.10318234e-01, 9.35421772e-01],\n",
       "       [1.85738835e-01, 3.55039123e-01],\n",
       "       [6.94896189e-01, 9.62575553e-01],\n",
       "       [3.18846870e-01, 8.81673157e-01],\n",
       "       [5.66975243e-01, 5.20501414e-01],\n",
       "       [4.44842367e-04, 9.96664080e-02],\n",
       "       [7.98998366e-02, 5.90391927e-01],\n",
       "       [5.26466308e-01, 1.42297960e-01],\n",
       "       [1.93216995e-01, 3.22950111e-01],\n",
       "       [8.61937609e-01, 3.53367342e-01],\n",
       "       [9.89844489e-01, 8.38222744e-01],\n",
       "       [9.37407175e-01, 1.75129016e-01],\n",
       "       [7.20280642e-01, 3.52221980e-01],\n",
       "       [4.08599044e-01, 8.02050621e-01],\n",
       "       [3.21835195e-02, 5.96135979e-01],\n",
       "       [1.52857664e-01, 5.69324535e-01],\n",
       "       [8.24440124e-01, 2.46617435e-01],\n",
       "       [6.85916138e-01, 8.88482009e-01],\n",
       "       [1.50318030e-01, 7.63666188e-01],\n",
       "       [5.96881161e-01, 8.25978101e-01],\n",
       "       [9.90591584e-02, 7.56116909e-01],\n",
       "       [9.03956719e-01, 9.89440252e-01],\n",
       "       [4.28236470e-02, 4.92601301e-02],\n",
       "       [9.53797303e-01, 8.59181347e-01],\n",
       "       [5.29660262e-01, 6.71047926e-01],\n",
       "       [5.05729374e-01, 1.25543568e-01],\n",
       "       [4.83278138e-02, 8.27320452e-01],\n",
       "       [6.67717710e-01, 1.68398498e-01],\n",
       "       [2.94348186e-01, 9.13148859e-01],\n",
       "       [9.14014130e-01, 6.40874474e-01],\n",
       "       [8.54751413e-01, 4.72721867e-01],\n",
       "       [6.61783203e-01, 7.60786739e-01],\n",
       "       [4.96065152e-01, 7.42389464e-01],\n",
       "       [2.10003821e-01, 2.52466472e-01],\n",
       "       [1.58312120e-01, 8.47397628e-01],\n",
       "       [9.40037045e-01, 7.92125137e-01],\n",
       "       [1.43041430e-01, 6.55549442e-01],\n",
       "       [3.61444424e-01, 9.92455560e-01],\n",
       "       [3.25267056e-01, 9.20162258e-01],\n",
       "       [5.27131545e-01, 5.44552740e-02],\n",
       "       [6.54243880e-01, 7.91865260e-01],\n",
       "       [5.50238390e-01, 9.84578421e-01],\n",
       "       [2.32840525e-01, 9.89860397e-01],\n",
       "       [9.15170308e-01, 4.94422455e-01],\n",
       "       [5.86998122e-01, 4.90495915e-01],\n",
       "       [9.50401429e-02, 3.97923686e-01],\n",
       "       [6.85289305e-01, 2.75103560e-01],\n",
       "       [3.87451221e-01, 7.42439091e-01],\n",
       "       [8.89534991e-01, 6.42714136e-01],\n",
       "       [6.27214030e-01, 1.08322850e-01],\n",
       "       [5.21625975e-01, 2.22363490e-01],\n",
       "       [8.35215080e-01, 6.06741428e-01],\n",
       "       [6.96068294e-01, 2.76419702e-01],\n",
       "       [6.02143016e-01, 1.66337907e-01],\n",
       "       [8.84085102e-01, 1.81980163e-01],\n",
       "       [9.62934559e-01, 4.48297960e-01],\n",
       "       [4.21325212e-01, 4.16089086e-01],\n",
       "       [7.08202236e-01, 3.39802433e-02],\n",
       "       [9.59680418e-01, 4.37107127e-01],\n",
       "       [5.77754274e-01, 5.37354641e-02],\n",
       "       [1.49653894e-01, 8.85385559e-02],\n",
       "       [9.27761210e-02, 9.61813176e-01],\n",
       "       [7.62826134e-02, 9.66110917e-01],\n",
       "       [9.96890639e-01, 8.12762152e-01],\n",
       "       [8.29378382e-01, 1.31588583e-01],\n",
       "       [2.94297289e-01, 1.51546825e-01],\n",
       "       [4.89000998e-01, 7.53345916e-01],\n",
       "       [7.44243471e-01, 2.47233698e-01],\n",
       "       [7.75995074e-01, 1.43965114e-01],\n",
       "       [4.93797950e-01, 2.42545402e-01],\n",
       "       [4.22210372e-01, 2.45987482e-02],\n",
       "       [3.79404710e-02, 6.65827463e-01],\n",
       "       [9.71740665e-01, 4.70320171e-02],\n",
       "       [8.86108733e-01, 7.39077993e-01],\n",
       "       [4.57698729e-01, 4.26130981e-01],\n",
       "       [6.24694228e-01, 4.67674600e-01],\n",
       "       [6.89122116e-01, 2.57434809e-01],\n",
       "       [2.74782988e-01, 8.74340097e-01],\n",
       "       [9.77866319e-01, 5.59382264e-01],\n",
       "       [2.74984319e-01, 4.59579211e-01],\n",
       "       [5.54301739e-01, 8.24905326e-01],\n",
       "       [7.09933626e-01, 4.17901188e-01],\n",
       "       [6.52311795e-01, 5.21101045e-01],\n",
       "       [3.58063102e-01, 6.18335740e-01],\n",
       "       [5.16987579e-01, 8.64278282e-01],\n",
       "       [7.08391260e-02, 4.62985761e-01],\n",
       "       [9.04654529e-01, 1.15091491e-02],\n",
       "       [2.81295954e-01, 7.44426910e-01],\n",
       "       [6.01437356e-01, 6.78830007e-01]])"
      ]
     },
     "execution_count": 1,
     "metadata": {},
     "output_type": "execute_result"
    }
   ],
   "source": [
    "import numpy as np\n",
    "import matplotlib.pyplot as plt\n",
    "# generate random 2D data with 100 points\n",
    "\n",
    "data = np.random.rand(100,2)\n",
    "data\n"
   ]
  },
  {
   "cell_type": "code",
   "execution_count": 21,
   "id": "229b61f8-128d-4619-8d83-c12aa4e1996d",
   "metadata": {
    "scrolled": true
   },
   "outputs": [
    {
     "data": {
      "image/png": "[encoded data removed]",
      "text/plain": [
       "<Figure size 1200x600 with 1 Axes>"
      ]
     },
     "metadata": {},
     "output_type": "display_data"
    }
   ],
   "source": [
    "# plot the original data\n",
    "plt.figure(figsize=(12,6))\n",
    "plt.subplot(1,2,1)\n",
    "plt.scatter(data[:,0],data[:,1],label=\"original data\")\n",
    "plt.xlabel(\"x-Axis\")\n",
    "plt.title(\"Before mean centring\")\n",
    "plt.axhline(0,color='black',linewidth=0.5)\n",
    "plt.axvline(0,color='black',linewidth=0.5)\n",
    "plt.legend()\n",
    "plt.show()"
   ]
  },
  {
   "cell_type": "code",
   "execution_count": 13,
   "id": "c4ec8902-91cd-4873-aa16-201b067a34aa",
   "metadata": {},
   "outputs": [
    {
     "name": "stdout",
     "output_type": "stream",
     "text": [
      "[0.53558836 0.512769  ]\n"
     ]
    }
   ],
   "source": [
    "# calculate the mean of the data along with each dimantion\n",
    "data_mean = np.mean(data,axis=0)\n",
    "print(data_mean)"
   ]
  },
  {
   "cell_type": "code",
   "execution_count": 17,
   "id": "6208d3b9-f136-4de8-8269-3d48a4c89779",
   "metadata": {
    "scrolled": true
   },
   "outputs": [
    {
     "data": {
      "text/plain": [
       "array([[ 0.04821941,  0.48534052],\n",
       "       [-0.12680994, -0.06638893],\n",
       "       [ 0.20331309, -0.48348219],\n",
       "       [ 0.42695745,  0.07940765],\n",
       "       [-0.37529221,  0.19588251],\n",
       "       [ 0.28493633, -0.01986255],\n",
       "       [ 0.36670513, -0.31080656],\n",
       "       [-0.34448409, -0.19755989],\n",
       "       [-0.49767004, -0.42385554],\n",
       "       [ 0.45820661,  0.17053644],\n",
       "       [ 0.14619636, -0.4309066 ],\n",
       "       [-0.02527012,  0.42265277],\n",
       "       [-0.34984952, -0.15772987],\n",
       "       [ 0.15930783,  0.44980656],\n",
       "       [-0.21674149,  0.36890416],\n",
       "       [ 0.03138689,  0.00773242],\n",
       "       [-0.53514352, -0.41310259],\n",
       "       [-0.45568852,  0.07762293],\n",
       "       [-0.00912205, -0.37047104],\n",
       "       [-0.34237136, -0.18981889],\n",
       "       [ 0.32634925, -0.15940166],\n",
       "       [ 0.45425613,  0.32545375],\n",
       "       [ 0.40181882, -0.33763998],\n",
       "       [ 0.18469228, -0.16054702],\n",
       "       [-0.12698931,  0.28928162],\n",
       "       [-0.50340484,  0.08336698],\n",
       "       [-0.38273069,  0.05655554],\n",
       "       [ 0.28885177, -0.26615156],\n",
       "       [ 0.15032778,  0.37571301],\n",
       "       [-0.38527033,  0.25089719],\n",
       "       [ 0.0612928 ,  0.3132091 ],\n",
       "       [-0.4365292 ,  0.24334791],\n",
       "       [ 0.36836836,  0.47667125],\n",
       "       [-0.49276471, -0.46350887],\n",
       "       [ 0.41820895,  0.34641235],\n",
       "       [-0.0059281 ,  0.15827893],\n",
       "       [-0.02985898, -0.38722543],\n",
       "       [-0.48726054,  0.31455145],\n",
       "       [ 0.13212935, -0.3443705 ],\n",
       "       [-0.24124017,  0.40037986],\n",
       "       [ 0.37842577,  0.12810548],\n",
       "       [ 0.31916306, -0.04004713],\n",
       "       [ 0.12619485,  0.24801774],\n",
       "       [-0.03952321,  0.22962047],\n",
       "       [-0.32558454, -0.26030253],\n",
       "       [-0.37727624,  0.33462863],\n",
       "       [ 0.40444869,  0.27935614],\n",
       "       [-0.39254693,  0.14278045],\n",
       "       [-0.17414393,  0.47968656],\n",
       "       [-0.2103213 ,  0.40739326],\n",
       "       [-0.00845681, -0.45831372],\n",
       "       [ 0.11865552,  0.27909626],\n",
       "       [ 0.01465003,  0.47180942],\n",
       "       [-0.30274783,  0.4770914 ],\n",
       "       [ 0.37958195, -0.01834654],\n",
       "       [ 0.05140976, -0.02227308],\n",
       "       [-0.44054821, -0.11484531],\n",
       "       [ 0.14970095, -0.23766544],\n",
       "       [-0.14813714,  0.22967009],\n",
       "       [ 0.35394663,  0.12994514],\n",
       "       [ 0.09162567, -0.40444615],\n",
       "       [-0.01396238, -0.29040551],\n",
       "       [ 0.29962672,  0.09397243],\n",
       "       [ 0.16047994, -0.2363493 ],\n",
       "       [ 0.06655466, -0.34643109],\n",
       "       [ 0.34849674, -0.33078883],\n",
       "       [ 0.4273462 , -0.06447104],\n",
       "       [-0.11426315, -0.09667991],\n",
       "       [ 0.17261388, -0.47878875],\n",
       "       [ 0.42409206, -0.07566187],\n",
       "       [ 0.04216592, -0.45903353],\n",
       "       [-0.38593446, -0.42423044],\n",
       "       [-0.44281224,  0.44904418],\n",
       "       [-0.45930574,  0.45334192],\n",
       "       [ 0.46130228,  0.29999315],\n",
       "       [ 0.29379002, -0.38118041],\n",
       "       [-0.24129107, -0.36122217],\n",
       "       [-0.04658736,  0.24057692],\n",
       "       [ 0.20865511, -0.2655353 ],\n",
       "       [ 0.24040672, -0.36880388],\n",
       "       [-0.04179041, -0.2702236 ],\n",
       "       [-0.11337798, -0.48817025],\n",
       "       [-0.49764789,  0.15305847],\n",
       "       [ 0.43615231, -0.46573698],\n",
       "       [ 0.35052038,  0.226309  ],\n",
       "       [-0.07788963, -0.08663802],\n",
       "       [ 0.08910587, -0.0450944 ],\n",
       "       [ 0.15353376, -0.25533419],\n",
       "       [-0.26080537,  0.3615711 ],\n",
       "       [ 0.44227796,  0.04661327],\n",
       "       [-0.26060404, -0.05318979],\n",
       "       [ 0.01871338,  0.31213633],\n",
       "       [ 0.17434527, -0.09486781],\n",
       "       [ 0.11672344,  0.00833205],\n",
       "       [-0.17752526,  0.10556674],\n",
       "       [-0.01860078,  0.35150928],\n",
       "       [-0.46474923, -0.04978324],\n",
       "       [ 0.36906617, -0.50125985],\n",
       "       [-0.2542924 ,  0.23165791],\n",
       "       [ 0.065849  ,  0.16606101]])"
      ]
     },
     "execution_count": 17,
     "metadata": {},
     "output_type": "execute_result"
    }
   ],
   "source": [
    "#perform mean centering\n",
    "centered_data = data - data_mean\n",
    "centered_data\n"
   ]
  },
  {
   "cell_type": "code",
   "execution_count": 20,
   "id": "ade79f19-afbd-4ddb-8abd-01e1a53ebf23",
   "metadata": {
    "scrolled": true
   },
   "outputs": [
    {
     "data": {
      "image/png": "[encoded data removed]",
      "text/plain": [
       "<Figure size 1200x600 with 1 Axes>"
      ]
     },
     "metadata": {},
     "output_type": "display_data"
    }
   ],
   "source": [
    "#plot the mean centric data\n",
    "plt.figure(figsize=(12,6))\n",
    "plt.subplot(1,2,2)\n",
    "plt.scatter(centered_data[:,0],centered_data[:,1],label=\"mean data centric\",color='red')\n",
    "plt.xlabel(\"x-Axis\")\n",
    "plt.ylabel(\"y-Axis\")\n",
    "plt.title(\"after mean centring\")\n",
    "plt.axhline(0,color='black',linewidth=0.5)\n",
    "plt.axvline(0,color='black',linewidth=0.5)\n",
    "plt.legend()\n",
    "plt.show()\n"
   ]
  },
  {
   "cell_type": "code",
   "execution_count": 23,
   "id": "f55b5d6d-8ba5-4a6e-9e0f-cb56bc8e27bd",
   "metadata": {},
   "outputs": [],
   "source": [
    "#Mean Centering | Zero Mean | Feature Scaling | PCA | Linear Regression\n",
    "\n",
    "#Formula: Centered = data - mean\n",
    "#Example: Data [60, 70, 80], Mean = 70, Centered: [-10, 0, 10].\n",
    "\n",
    "\n",
    "\n",
    "\n",
    "\n",
    "\n",
    "\n",
    "\n"
   ]
  },
  {
   "cell_type": "code",
   "execution_count": null,
   "id": "1e0377ab-144c-4768-8937-be9091d19ae5",
   "metadata": {},
   "outputs": [],
   "source": []
  },
  {
   "cell_type": "code",
   "execution_count": null,
   "id": "2bea76e4-56de-428b-b826-52645e1b4bd5",
   "metadata": {},
   "outputs": [],
   "source": []
  },
  {
   "cell_type": "code",
   "execution_count": null,
   "id": "df006435-8817-4fe2-bc96-ca2b9b4467ae",
   "metadata": {},
   "outputs": [],
   "source": []
  },
  {
   "cell_type": "code",
   "execution_count": null,
   "id": "f660843f-9ff1-439c-a526-df8bbc5ae264",
   "metadata": {},
   "outputs": [],
   "source": []
  },
  {
   "cell_type": "code",
   "execution_count": null,
   "id": "3f68de79-308f-4d47-a20e-f8d135fbd4a7",
   "metadata": {},
   "outputs": [],
   "source": []
  },
  {
   "cell_type": "code",
   "execution_count": null,
   "id": "8e7db2b5-bba4-46da-a878-4e1091b797b9",
   "metadata": {},
   "outputs": [],
   "source": []
  },
  {
   "cell_type": "code",
   "execution_count": null,
   "id": "754faa69-30d4-4d21-b746-268c90f29fdd",
   "metadata": {},
   "outputs": [],
   "source": []
  },
  {
   "cell_type": "code",
   "execution_count": null,
   "id": "1d722641-f927-47e4-8372-55ae0b54d1c2",
   "metadata": {},
   "outputs": [],
   "source": []
  },
  {
   "cell_type": "code",
   "execution_count": null,
   "id": "f1c22879-71f3-4276-b215-ddb0ee9d77df",
   "metadata": {},
   "outputs": [],
   "source": []
  },
  {
   "cell_type": "code",
   "execution_count": null,
   "id": "7bc52cf1-4ab6-46d3-9121-2c7675e91012",
   "metadata": {},
   "outputs": [],
   "source": []
  },
  {
   "cell_type": "code",
   "execution_count": null,
   "id": "75fbd84b-863e-44a4-9a93-81d97f4590e9",
   "metadata": {},
   "outputs": [],
   "source": []
  },
  {
   "cell_type": "code",
   "execution_count": null,
   "id": "8a3400af-14ba-4757-b7ea-1d1031fca77e",
   "metadata": {},
   "outputs": [],
   "source": []
  },
  {
   "cell_type": "code",
   "execution_count": null,
   "id": "66c621ef-90de-4afe-8b6a-5c5e0c2afde6",
   "metadata": {},
   "outputs": [],
   "source": []
  },
  {
   "cell_type": "code",
   "execution_count": null,
   "id": "c809727e-298d-41ee-86b0-c98081c5dc0b",
   "metadata": {},
   "outputs": [],
   "source": []
  },
  {
   "cell_type": "code",
   "execution_count": null,
   "id": "4edcfd66-0e86-42ed-bda8-b04797fbfafd",
   "metadata": {},
   "outputs": [],
   "source": []
  },
  {
   "cell_type": "code",
   "execution_count": null,
   "id": "23a3b89b-4374-449b-9e19-12df206638bc",
   "metadata": {},
   "outputs": [],
   "source": []
  },
  {
   "cell_type": "code",
   "execution_count": null,
   "id": "e471197b-137e-45fd-be74-96f564d31b15",
   "metadata": {},
   "outputs": [],
   "source": []
  },
  {
   "cell_type": "code",
   "execution_count": null,
   "id": "9e102489-f8b2-4e9e-aade-9e991ab6d349",
   "metadata": {},
   "outputs": [],
   "source": []
  },
  {
   "cell_type": "code",
   "execution_count": null,
   "id": "6629fb75-cae6-48e2-beed-f112afcee1e1",
   "metadata": {},
   "outputs": [],
   "source": []
  },
  {
   "cell_type": "code",
   "execution_count": null,
   "id": "8c8fd60b-fc1d-47bd-8a15-cdea8687bcee",
   "metadata": {},
   "outputs": [],
   "source": []
  },
  {
   "cell_type": "code",
   "execution_count": null,
   "id": "334e9025-0e5d-428c-b331-51694a02c611",
   "metadata": {},
   "outputs": [],
   "source": []
  },
  {
   "cell_type": "code",
   "execution_count": null,
   "id": "3d0fe20f-1105-4d70-9ea0-6ac808cb39f8",
   "metadata": {},
   "outputs": [],
   "source": []
  },
  {
   "cell_type": "code",
   "execution_count": null,
   "id": "193d05ca-951d-4b99-bc8f-048a2e998f50",
   "metadata": {},
   "outputs": [],
   "source": []
  },
  {
   "cell_type": "code",
   "execution_count": null,
   "id": "ec901713-f330-44b4-b93c-ded337ed91a7",
   "metadata": {},
   "outputs": [],
   "source": []
  },
  {
   "cell_type": "code",
   "execution_count": null,
   "id": "6bc401d3-1b60-4d65-9053-38ee9ea281c6",
   "metadata": {},
   "outputs": [],
   "source": []
  },
  {
   "cell_type": "code",
   "execution_count": null,
   "id": "272ea823-4423-4ed3-ab00-af1cfccd4adf",
   "metadata": {},
   "outputs": [],
   "source": []
  },
  {
   "cell_type": "code",
   "execution_count": null,
   "id": "ba088a71-d034-458c-9c04-f8f4fa09dd88",
   "metadata": {},
   "outputs": [],
   "source": []
  },
  {
   "cell_type": "code",
   "execution_count": null,
   "id": "b0d67feb-9157-4bf7-8dc9-ee4ba7a8848c",
   "metadata": {},
   "outputs": [],
   "source": []
  },
  {
   "cell_type": "code",
   "execution_count": null,
   "id": "02581e9c-8093-44b9-b6c3-adee34b4f4a4",
   "metadata": {},
   "outputs": [],
   "source": []
  },
  {
   "cell_type": "code",
   "execution_count": null,
   "id": "01d47592-ae53-497f-8310-c6652f677cea",
   "metadata": {},
   "outputs": [],
   "source": []
  },
  {
   "cell_type": "code",
   "execution_count": null,
   "id": "269ae694-e7af-46c8-a500-19ff32db4be9",
   "metadata": {},
   "outputs": [],
   "source": []
  },
  {
   "cell_type": "code",
   "execution_count": null,
   "id": "f946998f-874b-4fdb-a603-b659d2287b43",
   "metadata": {},
   "outputs": [],
   "source": []
  },
  {
   "cell_type": "code",
   "execution_count": null,
   "id": "8d759c3a-fba3-4877-a6ec-b1de2c16dfd7",
   "metadata": {},
   "outputs": [],
   "source": []
  },
  {
   "cell_type": "code",
   "execution_count": null,
   "id": "5a1a3e2e-a34e-4e58-9f95-0646606ab76c",
   "metadata": {},
   "outputs": [],
   "source": []
  },
  {
   "cell_type": "code",
   "execution_count": null,
   "id": "d47ddf7e-b9d6-44b3-ace8-d955d9e40c07",
   "metadata": {},
   "outputs": [],
   "source": []
  },
  {
   "cell_type": "code",
   "execution_count": null,
   "id": "f90575c5-52d3-4d39-bc29-3e0d45e25a3e",
   "metadata": {},
   "outputs": [],
   "source": []
  },
  {
   "cell_type": "code",
   "execution_count": null,
   "id": "cbc56563-b9e4-457d-a215-81c3a40f7fde",
   "metadata": {},
   "outputs": [],
   "source": []
  }
 ],
 "metadata": {
  "kernelspec": {
   "display_name": "Python 3 (ipykernel)",
   "language": "python",
   "name": "python3"
  },
  "language_info": {
   "codemirror_mode": {
    "name": "ipython",
    "version": 3
   },
   "file_extension": ".py",
   "mimetype": "text/x-python",
   "name": "python",
   "nbconvert_exporter": "python",
   "pygments_lexer": "ipython3",
   "version": "3.12.7"
  }
 },
 "nbformat": 4,
 "nbformat_minor": 5
}
